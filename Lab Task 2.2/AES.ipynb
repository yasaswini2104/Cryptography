{
 "cells": [
  {
   "cell_type": "code",
   "execution_count": 1,
   "metadata": {},
   "outputs": [
    {
     "name": "stdout",
     "output_type": "stream",
     "text": [
      "Encryption successful. Encrypted data saved to encrypted.aes\n",
      "Decryption successful. Decrypted data saved to decrypted.txt\n"
     ]
    }
   ],
   "source": [
    "#Implement AES using the available library to encrypt and decrypt a given plain text file.\n",
    "\n",
    "from Crypto.Cipher import AES\n",
    "from Crypto.Random import get_random_bytes\n",
    "import os\n",
    "\n",
    "def pad(data):\n",
    "    padding_length = 16-(len(data)%16)\n",
    "    return data+bytes([padding_length])*padding_length\n",
    "\n",
    "def unpad(data):\n",
    "    return data[:-data[-1]]\n",
    "\n",
    "def encrypt_file(input_file: str, output_file: str, password: str):\n",
    "    key=password.ljust(32)[:32].encode() \n",
    "    iv=get_random_bytes(16)\n",
    "    cipher=AES.new(key, AES.MODE_CBC, iv)\n",
    "    \n",
    "    with open(input_file, 'rb') as f:\n",
    "        plaintext = f.read()\n",
    "    \n",
    "    ciphertext = cipher.encrypt(pad(plaintext))\n",
    "    \n",
    "    with open(output_file, 'wb') as f:\n",
    "        f.write(iv+ciphertext)\n",
    "    print(\"Encryption successful. Encrypted data saved to\", output_file)\n",
    "\n",
    "def decrypt_file(input_file: str, output_file: str, password: str):\n",
    "    key = password.ljust(32)[:32].encode()\n",
    "    \n",
    "    with open(input_file, 'rb') as f:\n",
    "        file_data = f.read()\n",
    "    \n",
    "    iv, ciphertext=file_data[:16], file_data[16:]\n",
    "    cipher=AES.new(key, AES.MODE_CBC, iv)\n",
    "    plaintext=unpad(cipher.decrypt(ciphertext))\n",
    "    \n",
    "    with open(output_file, 'wb') as f:\n",
    "        f.write(plaintext)\n",
    "    print(\"Decryption successful. Decrypted data saved to\", output_file)\n",
    "\n",
    "encrypt_file(\"plaintext.txt\", \"encrypted.aes\", \"strongpassword\")\n",
    "decrypt_file(\"encrypted.aes\", \"decrypted.txt\", \"strongpassword\")\n"
   ]
  },
  {
   "cell_type": "code",
   "execution_count": 2,
   "metadata": {},
   "outputs": [
    {
     "name": "stdout",
     "output_type": "stream",
     "text": [
      "Error: Input file not found.\n"
     ]
    }
   ],
   "source": [
    "# Extend the program (2) to encrypt and decrypt a given file.\n",
    "\n",
    "from Crypto.Cipher import AES\n",
    "from Crypto.Random import get_random_bytes\n",
    "import os\n",
    "\n",
    "def pad(data):\n",
    "    padding_length = 16 - (len(data) % 16)\n",
    "    return data + bytes([padding_length])*padding_length\n",
    "\n",
    "def unpad(data):\n",
    "    return data[:-data[-1]]\n",
    "\n",
    "def encrypt_file(input_file: str, output_file: str, password: str):\n",
    "    try:\n",
    "        key = password.ljust(32)[:32].encode() \n",
    "        iv = get_random_bytes(16)\n",
    "        cipher = AES.new(key, AES.MODE_CBC, iv)\n",
    "        \n",
    "        with open(input_file, 'rb') as f:\n",
    "            plaintext = f.read()\n",
    "        \n",
    "        ciphertext = cipher.encrypt(pad(plaintext))\n",
    "        \n",
    "        with open(output_file, 'wb') as f:\n",
    "            f.write(iv + ciphertext)\n",
    "        print(\"Encryption successful. Encrypted data saved to\", output_file)\n",
    "    except FileNotFoundError:\n",
    "        print(\"Error: Input file not found.\")\n",
    "    except Exception as e:\n",
    "        print(\"Encryption failed:\", str(e))\n",
    "\n",
    "def decrypt_file(input_file: str, output_file: str, password: str):\n",
    "    try:\n",
    "        key = password.ljust(32)[:32].encode()\n",
    "        \n",
    "        with open(input_file, 'rb') as f:\n",
    "            file_data=f.read()\n",
    "        \n",
    "        iv, ciphertext=file_data[:16], file_data[16:]\n",
    "        cipher=AES.new(key, AES.MODE_CBC, iv)\n",
    "        plaintext=unpad(cipher.decrypt(ciphertext))\n",
    "        \n",
    "        with open(output_file, 'wb') as f:\n",
    "            f.write(plaintext)\n",
    "        print(\"Decryption successful. Decrypted data saved to\", output_file)\n",
    "    except FileNotFoundError:\n",
    "        print(\"Error: Encrypted file not found.\")\n",
    "    except ValueError:\n",
    "        print(\"Error: Incorrect password or corrupted file.\")\n",
    "    except Exception as e:\n",
    "        print(\"Decryption failed:\", str(e))\n",
    "\n",
    "if __name__ == \"__main__\":\n",
    "    action = input(\"Enter 'e' to encrypt or 'd' to decrypt: \").strip().lower()\n",
    "    if action == 'e':\n",
    "        input_file = input(\"Enter the name of the file to encrypt: \").strip()\n",
    "        output_file = input(\"Enter the output encrypted file name: \").strip()\n",
    "        password = input(\"Enter encryption password: \").strip()\n",
    "        encrypt_file(input_file, output_file, password)\n",
    "    elif action == 'd':\n",
    "        input_file = input(\"Enter the name of the file to decrypt: \").strip()\n",
    "        output_file = input(\"Enter the output decrypted file name: \").strip()\n",
    "        password = input(\"Enter decryption password: \").strip()\n",
    "        decrypt_file(input_file, output_file, password)\n",
    "    else:\n",
    "        print(\"Invalid action. Use 'e' for encryption or 'd' for decryption.\")\n"
   ]
  },
  {
   "cell_type": "code",
   "execution_count": null,
   "metadata": {},
   "outputs": [],
   "source": []
  }
 ],
 "metadata": {
  "kernelspec": {
   "display_name": "Python 3",
   "language": "python",
   "name": "python3"
  },
  "language_info": {
   "codemirror_mode": {
    "name": "ipython",
    "version": 3
   },
   "file_extension": ".py",
   "mimetype": "text/x-python",
   "name": "python",
   "nbconvert_exporter": "python",
   "pygments_lexer": "ipython3",
   "version": "3.12.3"
  }
 },
 "nbformat": 4,
 "nbformat_minor": 2
}
